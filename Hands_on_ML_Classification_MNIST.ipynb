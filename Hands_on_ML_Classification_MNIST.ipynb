{
  "nbformat": 4,
  "nbformat_minor": 0,
  "metadata": {
    "colab": {
      "name": "Hands on ML - Classification_MNIST.ipynb",
      "provenance": [],
      "collapsed_sections": [],
      "authorship_tag": "ABX9TyMxgdHFlL1J/uQXsJxHXgVB",
      "include_colab_link": true
    },
    "kernelspec": {
      "name": "python3",
      "display_name": "Python 3"
    },
    "language_info": {
      "name": "python"
    }
  },
  "cells": [
    {
      "cell_type": "markdown",
      "metadata": {
        "id": "view-in-github",
        "colab_type": "text"
      },
      "source": [
        "<a href=\"https://colab.research.google.com/github/dataqueenpend/HandsOnML_projects/blob/main/Hands_on_ML_Classification_MNIST.ipynb\" target=\"_parent\"><img src=\"https://colab.research.google.com/assets/colab-badge.svg\" alt=\"Open In Colab\"/></a>"
      ]
    },
    {
      "cell_type": "markdown",
      "source": [
        "#SETUP\n",
        "\n",
        "!Disclaimer - below code (with some modifications) is an exercise from Hand-On-ML exercises. Original you can find under this [link](https://github.com/dataqueenpend/handson-ml2/blob/master/03_classification.ipynb)."
      ],
      "metadata": {
        "id": "xyz8U3rTXG9F"
      }
    },
    {
      "cell_type": "code",
      "source": [
        "import sklearn\n",
        "import numpy as np\n",
        "import os\n",
        "\n",
        "#For stable outputs across the notebook\n",
        "np.random.seed(42)\n",
        "\n",
        "#Pretty figures\n",
        "%matplotlib inline\n",
        "import matplotlib as mpl\n",
        "import matplotlib.pyplot as plt\n",
        "mpl.rc('axes', labelsize=14)\n",
        "mpl.rc('xtick', labelsize=12)\n",
        "mpl.rc('ytick', labelsize=12)\n",
        "\n",
        "#Ignore warnings\n",
        "import warnings\n",
        "warnings.filterwarnings('ignore')\n",
        "\n",
        "#Saving figures\n",
        "PROJECT_ROOT_DIR = '.'\n",
        "CHAPTER_ID = 'classification'\n",
        "IMAGES_PATH = os.path.join(PROJECT_ROOT_DIR, 'images', CHAPTER_ID)\n",
        "os.makedirs(IMAGES_PATH, exist_ok=True)\n",
        "\n",
        "def save_fig(fig_id, tigh_layout=True, fig_extension='png', resolution=300):\n",
        "  path = os.path.join(IMAGES_PATH, fig_id + '.' + fig_extension)\n",
        "  print('Saving figure', fig_id)\n",
        "  if tight_layout:\n",
        "    plt.tight_layout()\n",
        "  plt.save_fig(path, format=fig_extension, dpi=resolution)"
      ],
      "metadata": {
        "id": "g0tHRWftXMAy"
      },
      "execution_count": 1,
      "outputs": []
    },
    {
      "cell_type": "markdown",
      "source": [
        "#MNIST"
      ],
      "metadata": {
        "id": "dLUmfYI9ZS45"
      }
    },
    {
      "cell_type": "code",
      "execution_count": 2,
      "metadata": {
        "id": "_Ywr6ACaWnSG"
      },
      "outputs": [],
      "source": [
        "from sklearn.datasets import fetch_openml"
      ]
    },
    {
      "cell_type": "code",
      "source": [
        "mnist = fetch_openml('mnist_784', version=1, as_frame=False)"
      ],
      "metadata": {
        "id": "p1gpGpsoW6mX"
      },
      "execution_count": 3,
      "outputs": []
    },
    {
      "cell_type": "code",
      "source": [
        "mnist.keys()"
      ],
      "metadata": {
        "colab": {
          "base_uri": "https://localhost:8080/"
        },
        "id": "D5oLXBhUXBFL",
        "outputId": "15281e4d-5da5-4c04-a89d-8fa6480de58f"
      },
      "execution_count": 4,
      "outputs": [
        {
          "output_type": "execute_result",
          "data": {
            "text/plain": [
              "dict_keys(['data', 'target', 'frame', 'categories', 'feature_names', 'target_names', 'DESCR', 'details', 'url'])"
            ]
          },
          "metadata": {},
          "execution_count": 4
        }
      ]
    },
    {
      "cell_type": "code",
      "source": [
        "X, y = mnist['data'], mnist['target']"
      ],
      "metadata": {
        "id": "etmqNQBeanBZ"
      },
      "execution_count": 5,
      "outputs": []
    },
    {
      "cell_type": "code",
      "source": [
        "X.shape"
      ],
      "metadata": {
        "colab": {
          "base_uri": "https://localhost:8080/"
        },
        "id": "0lAWMLCGas-z",
        "outputId": "402097de-abc8-4710-b241-62c2717c79ad"
      },
      "execution_count": 6,
      "outputs": [
        {
          "output_type": "execute_result",
          "data": {
            "text/plain": [
              "(70000, 784)"
            ]
          },
          "metadata": {},
          "execution_count": 6
        }
      ]
    },
    {
      "cell_type": "code",
      "source": [
        "y.shape"
      ],
      "metadata": {
        "colab": {
          "base_uri": "https://localhost:8080/"
        },
        "id": "9tx0rA2cauy0",
        "outputId": "de4a755f-4af2-4c45-d26e-3f97b1e44b31"
      },
      "execution_count": 7,
      "outputs": [
        {
          "output_type": "execute_result",
          "data": {
            "text/plain": [
              "(70000,)"
            ]
          },
          "metadata": {},
          "execution_count": 7
        }
      ]
    },
    {
      "cell_type": "markdown",
      "source": [
        "Dataset has 70 000 images. Each image has 784 features. \n",
        "\n",
        "---\n",
        "Each image is 28 x 28 pixels, and each feature represents one pixel's intensity from 0 to 255. "
      ],
      "metadata": {
        "id": "rHLbT7AeayBC"
      }
    },
    {
      "cell_type": "code",
      "source": [
        "some_digit = X[0]\n",
        "some_digit_image = some_digit.reshape(28,28)"
      ],
      "metadata": {
        "id": "1ku7piB5bLJ0"
      },
      "execution_count": 8,
      "outputs": []
    },
    {
      "cell_type": "code",
      "source": [
        "plt.imshow(some_digit_image, cmap='binary')\n",
        "plt.axis('off')\n",
        "plt.show()"
      ],
      "metadata": {
        "colab": {
          "base_uri": "https://localhost:8080/",
          "height": 247
        },
        "id": "iTe-YuoobSYX",
        "outputId": "1926d300-9656-49be-fe14-7c0b40194694"
      },
      "execution_count": 9,
      "outputs": [
        {
          "output_type": "display_data",
          "data": {
            "image/png": "[encoded data removed]",
            "text/plain": [
              "<Figure size 432x288 with 1 Axes>"
            ]
          },
          "metadata": {
            "needs_background": "light"
          }
        }
      ]
    },
    {
      "cell_type": "code",
      "source": [
        "y[0]"
      ],
      "metadata": {
        "colab": {
          "base_uri": "https://localhost:8080/",
          "height": 35
        },
        "id": "1qgCpzQZbeX7",
        "outputId": "38070dab-d9bb-40bc-e0fb-94d15b28ce11"
      },
      "execution_count": 10,
      "outputs": [
        {
          "output_type": "execute_result",
          "data": {
            "application/vnd.google.colaboratory.intrinsic+json": {
              "type": "string"
            },
            "text/plain": [
              "'5'"
            ]
          },
          "metadata": {},
          "execution_count": 10
        }
      ]
    },
    {
      "cell_type": "markdown",
      "source": [
        "Picture looks like 5. And label show it is 5. \n",
        "\n",
        "---\n",
        "\n",
        "y is a string, which will be tough for the ML to deal with. Let's imput it to the integer."
      ],
      "metadata": {
        "id": "0ywaC42Fbg9U"
      }
    },
    {
      "cell_type": "code",
      "source": [
        "y = y.astype(np.uint8)"
      ],
      "metadata": {
        "id": "WVh-creKbf22"
      },
      "execution_count": 11,
      "outputs": []
    },
    {
      "cell_type": "markdown",
      "source": [
        "##Train, test split"
      ],
      "metadata": {
        "id": "s0sjU9wHb8Zy"
      }
    },
    {
      "cell_type": "code",
      "source": [
        "X_train, X_test, y_train, y_test = X[:60000], X[60000:], y[:60000], y[60000:]"
      ],
      "metadata": {
        "id": "W2QYgLkqb_oR"
      },
      "execution_count": 12,
      "outputs": []
    },
    {
      "cell_type": "markdown",
      "source": [
        "Data is already shuffled, so we don't risk that some fold will be missing some digits. \n",
        "\n",
        "> Some ML can perform bad, if they get many similar instances in a row. But shuffling can be not such a good idea, when we're dealing with f.e. time-series data -> stock market prices, weatcher predictions etc. "
      ],
      "metadata": {
        "id": "hj0Fm7nFcVyY"
      }
    },
    {
      "cell_type": "markdown",
      "source": [
        "##Training Binary Classifier\n",
        "\n",
        "For simplification of a problem let's try to train the model for predicting either the number is 5 or not. "
      ],
      "metadata": {
        "id": "2XaHUu1lQR1n"
      }
    },
    {
      "cell_type": "code",
      "source": [
        "y_train_5 = (y_train == 5)\n",
        "y_test_5 = (y_test ==5)"
      ],
      "metadata": {
        "id": "_vYkkI84QaAj"
      },
      "execution_count": 13,
      "outputs": []
    },
    {
      "cell_type": "markdown",
      "source": [
        "###Stochastic Gradient Descent\n",
        "\n",
        "+ capable of handling very large datasets efficieny\n",
        "  > this is because SGD handles training instances indepedently - one at a time - which make it good for online learning as well"
      ],
      "metadata": {
        "id": "eXx1bQa4Q0GX"
      }
    },
    {
      "cell_type": "code",
      "source": [
        "#Creating SGD object and training on the whole train set\n",
        "\n",
        "from sklearn.linear_model import SGDClassifier"
      ],
      "metadata": {
        "id": "QlXg_c48Qw64"
      },
      "execution_count": 14,
      "outputs": []
    },
    {
      "cell_type": "code",
      "source": [
        "sgd_clf = SGDClassifier(random_state=42)"
      ],
      "metadata": {
        "id": "Z2Esv7hmRdPk"
      },
      "execution_count": 15,
      "outputs": []
    },
    {
      "cell_type": "code",
      "source": [
        "sgd_clf.fit(X_train, y_train_5)"
      ],
      "metadata": {
        "colab": {
          "base_uri": "https://localhost:8080/"
        },
        "id": "O6v4PtYYRhOd",
        "outputId": "ce185bdd-ffb2-476d-82c6-7e269ac0d8a1"
      },
      "execution_count": 16,
      "outputs": [
        {
          "output_type": "execute_result",
          "data": {
            "text/plain": [
              "SGDClassifier(random_state=42)"
            ]
          },
          "metadata": {},
          "execution_count": 16
        }
      ]
    },
    {
      "cell_type": "code",
      "source": [
        "sgd_clf.predict([some_digit])"
      ],
      "metadata": {
        "colab": {
          "base_uri": "https://localhost:8080/"
        },
        "id": "xkokYsrlSC9m",
        "outputId": "5d6069a1-262a-4fa0-b7f9-10e361a9b3c9"
      },
      "execution_count": 17,
      "outputs": [
        {
          "output_type": "execute_result",
          "data": {
            "text/plain": [
              "array([ True])"
            ]
          },
          "metadata": {},
          "execution_count": 17
        }
      ]
    },
    {
      "cell_type": "code",
      "source": [
        "#Checking cross-val-score\n",
        "from sklearn.model_selection import cross_val_score\n",
        "cross_val_score(sgd_clf, X_train, y_train, cv=3, scoring='accuracy')"
      ],
      "metadata": {
        "colab": {
          "base_uri": "https://localhost:8080/"
        },
        "id": "gCemFSR5Z0NG",
        "outputId": "d1f84425-e8e4-4323-90aa-2b1530cc1ec5"
      },
      "execution_count": 18,
      "outputs": [
        {
          "output_type": "execute_result",
          "data": {
            "text/plain": [
              "array([0.87365, 0.85835, 0.8689 ])"
            ]
          },
          "metadata": {},
          "execution_count": 18
        }
      ]
    },
    {
      "cell_type": "markdown",
      "source": [
        "Classifier guessed right. \n",
        "\n",
        "Let's try evalute the model performance. "
      ],
      "metadata": {
        "id": "AgUlCOZKSInm"
      }
    },
    {
      "cell_type": "markdown",
      "source": [
        "##Performance Measures\n",
        "\n",
        "**Evaluation of the Classifier is trickier than evaluating regressor.**"
      ],
      "metadata": {
        "id": "RHd2AmmvSRMu"
      }
    },
    {
      "cell_type": "markdown",
      "source": [
        "###Cross Validation\n",
        "\n",
        "There is part of interesting code for cross validation from handson-ml2 "
      ],
      "metadata": {
        "id": "lnvxJNR9S-QF"
      }
    },
    {
      "cell_type": "code",
      "source": [
        "from sklearn.model_selection import StratifiedKFold\n",
        "from sklearn.base import clone\n",
        "\n",
        "skfolds = StratifiedKFold(n_splits=3, shuffle=True, random_state=42)\n",
        "\n",
        "for train_index, test_index in skfolds.split(X_train, y_train_5):\n",
        "    clone_clf = clone(sgd_clf)\n",
        "    X_train_folds = X_train[train_index]\n",
        "    y_train_folds = y_train_5[train_index]\n",
        "    X_test_fold = X_train[test_index]\n",
        "    y_test_fold = y_train_5[test_index]\n",
        "\n",
        "    clone_clf.fit(X_train_folds, y_train_folds)\n",
        "    y_pred = clone_clf.predict(X_test_fold)\n",
        "    n_correct = sum(y_pred == y_test_fold)\n",
        "    print(n_correct / len(y_pred))"
      ],
      "metadata": {
        "colab": {
          "base_uri": "https://localhost:8080/"
        },
        "id": "j9G6g6CYWxit",
        "outputId": "52dc1fa1-4a68-47b0-a2bf-a988e7fac90c"
      },
      "execution_count": 19,
      "outputs": [
        {
          "output_type": "stream",
          "name": "stdout",
          "text": [
            "0.9669\n",
            "0.91625\n",
            "0.96785\n"
          ]
        }
      ]
    },
    {
      "cell_type": "markdown",
      "source": [
        "####Cross validation with cross_val_score sklearn"
      ],
      "metadata": {
        "id": "eTZEnXTPcMG_"
      }
    },
    {
      "cell_type": "code",
      "source": [
        "from sklearn.model_selection import cross_val_score"
      ],
      "metadata": {
        "id": "5XClOQ65cQoz"
      },
      "execution_count": 20,
      "outputs": []
    },
    {
      "cell_type": "code",
      "source": [
        "cross_val_score(sgd_clf, X_train, y_train_5, cv=3, scoring='accuracy')"
      ],
      "metadata": {
        "colab": {
          "base_uri": "https://localhost:8080/"
        },
        "id": "gW2qYHTlcUeA",
        "outputId": "f53e7d16-4211-4f29-ad7e-a474eb9668d7"
      },
      "execution_count": 21,
      "outputs": [
        {
          "output_type": "execute_result",
          "data": {
            "text/plain": [
              "array([0.95035, 0.96035, 0.9604 ])"
            ]
          },
          "metadata": {},
          "execution_count": 21
        }
      ]
    },
    {
      "cell_type": "markdown",
      "source": [
        "Taking aa look at some classifier that classifies every image as not-5"
      ],
      "metadata": {
        "id": "HPnQc-O_csHd"
      }
    },
    {
      "cell_type": "code",
      "source": [
        "from sklearn.base import BaseEstimator"
      ],
      "metadata": {
        "id": "2hWka7Y7c4Ui"
      },
      "execution_count": 22,
      "outputs": []
    },
    {
      "cell_type": "code",
      "source": [
        "class Never5Classifier(BaseEstimator):\n",
        "  def fit(self, X, y=None):\n",
        "    return self\n",
        "  def predict(self, X):\n",
        "    return np.zeros((len(X), 1), dtype=bool)"
      ],
      "metadata": {
        "id": "HLMHgE0iehIe"
      },
      "execution_count": 23,
      "outputs": []
    },
    {
      "cell_type": "code",
      "source": [
        "never_5_clf = Never5Classifier()"
      ],
      "metadata": {
        "id": "p9IBia5he4RJ"
      },
      "execution_count": 24,
      "outputs": []
    },
    {
      "cell_type": "code",
      "source": [
        "cross_val_score(never_5_clf, X_train, y_train_5, cv=3, scoring='accuracy')"
      ],
      "metadata": {
        "colab": {
          "base_uri": "https://localhost:8080/"
        },
        "id": "_SgmRhq5e8p2",
        "outputId": "e065ed11-ec3c-43fd-db00-916b2335efa6"
      },
      "execution_count": 25,
      "outputs": [
        {
          "output_type": "execute_result",
          "data": {
            "text/plain": [
              "array([0.91125, 0.90855, 0.90915])"
            ]
          },
          "metadata": {},
          "execution_count": 25
        }
      ]
    },
    {
      "cell_type": "markdown",
      "source": [
        "This classifier gueeses 100% 5. But if only 10% of the images are not 5, than the classifier is right in the 90%. \n",
        "\n",
        "> That's why accuracy is not the best way to evaluate performance of the classifiers. **Especially with skewed datasets**. "
      ],
      "metadata": {
        "id": "oXoMxN46fILj"
      }
    },
    {
      "cell_type": "markdown",
      "source": [
        "###Confusion Matrix\n",
        "\n",
        "> Evaluation by counting the number of times instances of clas A are classified as class B\n",
        "\n",
        "  * if we know that classifier confused images of 5s with 3s, we go to the 5th row and 3rd column of the confusion matrix\n",
        "\n"
      ],
      "metadata": {
        "id": "pwD942D4hKf6"
      }
    },
    {
      "cell_type": "code",
      "source": [
        "from sklearn.model_selection import cross_val_predict"
      ],
      "metadata": {
        "id": "wVO0vH4qc0uD"
      },
      "execution_count": 26,
      "outputs": []
    },
    {
      "cell_type": "code",
      "source": [
        "y_train_pred = cross_val_predict(sgd_clf, X_train, y_train_5, cv=3)"
      ],
      "metadata": {
        "id": "Avwsfytxc5q6"
      },
      "execution_count": 27,
      "outputs": []
    },
    {
      "cell_type": "code",
      "source": [
        "from sklearn.metrics import confusion_matrix"
      ],
      "metadata": {
        "id": "PJREqRVVeFjF"
      },
      "execution_count": 28,
      "outputs": []
    },
    {
      "cell_type": "code",
      "source": [
        "confusion_matrix(y_train_5, y_train_pred)"
      ],
      "metadata": {
        "colab": {
          "base_uri": "https://localhost:8080/"
        },
        "id": "2fv6hYeVeI1n",
        "outputId": "5cabeafe-a845-490d-8335-b3841fe311ed"
      },
      "execution_count": 29,
      "outputs": [
        {
          "output_type": "execute_result",
          "data": {
            "text/plain": [
              "array([[53892,   687],\n",
              "       [ 1891,  3530]])"
            ]
          },
          "metadata": {},
          "execution_count": 29
        }
      ]
    },
    {
      "cell_type": "markdown",
      "source": [
        "1st row\n",
        "* 53892 were correctly classified as non 5 images (negative class) / 687 were wrongly classified as non 5 (false positives)\n",
        "\n",
        "2nd row\n",
        "* 1891 were wrongly classified as 5s (false positives), and 3530 were correctly classified as 5s (true positives). \n",
        "\n",
        "---\n",
        "\n",
        "**Perfect classifier would have nonzero values only on its main diagonal**\n",
        "\n",
        "Like this:\n",
        "\n"
      ],
      "metadata": {
        "id": "7-LM0CBBfKN7"
      }
    },
    {
      "cell_type": "code",
      "source": [
        "y_train_perfect_predictions = y_train_5\n",
        "confusion_matrix(y_train_5, y_train_perfect_predictions)"
      ],
      "metadata": {
        "colab": {
          "base_uri": "https://localhost:8080/"
        },
        "id": "3E6LdpXrgtaS",
        "outputId": "cbb18f1a-e5f1-4829-d250-b02c815421bd"
      },
      "execution_count": 30,
      "outputs": [
        {
          "output_type": "execute_result",
          "data": {
            "text/plain": [
              "array([[54579,     0],\n",
              "       [    0,  5421]])"
            ]
          },
          "metadata": {},
          "execution_count": 30
        }
      ]
    },
    {
      "cell_type": "markdown",
      "source": [
        "###Precision and Recall"
      ],
      "metadata": {
        "id": "Vx0c-TwshqYq"
      }
    },
    {
      "cell_type": "code",
      "source": [
        "from sklearn.metrics import precision_score, recall_score"
      ],
      "metadata": {
        "id": "jxFyE-D4h_qF"
      },
      "execution_count": 31,
      "outputs": []
    },
    {
      "cell_type": "code",
      "source": [
        "precision_score(y_train_5, y_train_pred)"
      ],
      "metadata": {
        "colab": {
          "base_uri": "https://localhost:8080/"
        },
        "id": "y_suTECfiEZt",
        "outputId": "ef514a08-d69e-4f43-bdcd-dcaedbcec9f5"
      },
      "execution_count": 32,
      "outputs": [
        {
          "output_type": "execute_result",
          "data": {
            "text/plain": [
              "0.8370879772350012"
            ]
          },
          "metadata": {},
          "execution_count": 32
        }
      ]
    },
    {
      "cell_type": "code",
      "source": [
        "recall_score(y_train_5, y_train_pred)"
      ],
      "metadata": {
        "colab": {
          "base_uri": "https://localhost:8080/"
        },
        "id": "aJazZpTWiHXj",
        "outputId": "ff9d88f6-5f60-4dbf-d7b8-cd1204061fb8"
      },
      "execution_count": 33,
      "outputs": [
        {
          "output_type": "execute_result",
          "data": {
            "text/plain": [
              "0.6511713705958311"
            ]
          },
          "metadata": {},
          "execution_count": 33
        }
      ]
    },
    {
      "cell_type": "code",
      "source": [
        "from sklearn.metrics import f1_score"
      ],
      "metadata": {
        "id": "5t8fGLa-kb3O"
      },
      "execution_count": 34,
      "outputs": []
    },
    {
      "cell_type": "code",
      "source": [
        "f1_score(y_train_5, y_train_pred)"
      ],
      "metadata": {
        "colab": {
          "base_uri": "https://localhost:8080/"
        },
        "id": "YZ5qEZXtkeNy",
        "outputId": "25380bb4-2630-4d72-a477-e1d1a7dc7c58"
      },
      "execution_count": 35,
      "outputs": [
        {
          "output_type": "execute_result",
          "data": {
            "text/plain": [
              "0.7325171197343846"
            ]
          },
          "metadata": {},
          "execution_count": 35
        }
      ]
    },
    {
      "cell_type": "markdown",
      "source": [
        "####Precision/Recall Trade-off"
      ],
      "metadata": {
        "id": "iaDiCaKilD_6"
      }
    },
    {
      "cell_type": "code",
      "source": [
        "y_scores = sgd_clf.decision_function([some_digit])\n",
        "y_scores"
      ],
      "metadata": {
        "colab": {
          "base_uri": "https://localhost:8080/"
        },
        "id": "PCoiHbZ8m-Mi",
        "outputId": "48e69b13-79c9-4bfa-85e9-5d4976f44a6a"
      },
      "execution_count": 36,
      "outputs": [
        {
          "output_type": "execute_result",
          "data": {
            "text/plain": [
              "array([2164.22030239])"
            ]
          },
          "metadata": {},
          "execution_count": 36
        }
      ]
    },
    {
      "cell_type": "code",
      "source": [
        "treshold = 0\n",
        "y_some_digit_pred = (y_scores > treshold)"
      ],
      "metadata": {
        "id": "dx66R6SonMax"
      },
      "execution_count": 37,
      "outputs": []
    },
    {
      "cell_type": "code",
      "source": [
        "treshold = 8000\n",
        "y_some_digit_pred = (y_scores > treshold)\n",
        "y_some_digit_pred"
      ],
      "metadata": {
        "colab": {
          "base_uri": "https://localhost:8080/"
        },
        "id": "d6W9XFl0nXS7",
        "outputId": "c1cd7209-cea1-4f1e-a843-ee9398e4ede2"
      },
      "execution_count": 38,
      "outputs": [
        {
          "output_type": "execute_result",
          "data": {
            "text/plain": [
              "array([False])"
            ]
          },
          "metadata": {},
          "execution_count": 38
        }
      ]
    },
    {
      "cell_type": "markdown",
      "source": [
        "#####How to decide which treshold to use?\n",
        "\n",
        "With cross_val_predict() function to get the scores of all instances, but with argument method set to 'decision_function'. \n",
        "\n",
        "> This way cross_val_predict() will return decision scores instead of predictions. "
      ],
      "metadata": {
        "id": "pRIksy8qnraQ"
      }
    },
    {
      "cell_type": "code",
      "source": [
        "y_scores = cross_val_predict(sgd_clf, X_train, y_train_5, cv=3, method='decision_function')"
      ],
      "metadata": {
        "id": "fTFB47uwoCnd"
      },
      "execution_count": 39,
      "outputs": []
    },
    {
      "cell_type": "markdown",
      "source": [
        "On this scores we will use precision_recall_curve() to compute precision and recall for all possible tresholds. "
      ],
      "metadata": {
        "id": "wXj75_EjoNrA"
      }
    },
    {
      "cell_type": "code",
      "source": [
        "from sklearn.metrics import precision_recall_curve"
      ],
      "metadata": {
        "id": "f0KFZsuloXDn"
      },
      "execution_count": 40,
      "outputs": []
    },
    {
      "cell_type": "code",
      "source": [
        "precisions, recalls, thresholds = precision_recall_curve(y_train_5, y_scores)"
      ],
      "metadata": {
        "id": "SMYAQ_JDoau_"
      },
      "execution_count": 41,
      "outputs": []
    },
    {
      "cell_type": "markdown",
      "source": [
        "Then we can use Matplotlib to plot precision and recall function of the treshold value. "
      ],
      "metadata": {
        "id": "56Xv9xk0ojvU"
      }
    },
    {
      "cell_type": "code",
      "source": [
        "def plot_precision_recall_vs_treshold(precisions, recalls, tresholds):\n",
        "  plt.plot(tresholds, precisions[:-1], 'b--', label='Precision', linewidth=2)\n",
        "  plt.plot(tresholds, recalls[:-1], 'g-', label='Recall', linewidth=2)\n",
        "  plt.legend(loc='center right', fontsize=16)\n",
        "  plt.xlabel('Treshold', fontsize=16)\n",
        "  plt.grid('True')\n",
        "  plt.axis([-50000, 50000, 0,1])"
      ],
      "metadata": {
        "id": "ZGQsi2X2oqaJ"
      },
      "execution_count": 42,
      "outputs": []
    },
    {
      "cell_type": "code",
      "source": [
        "recall_90_precision = recalls[np.argmax(precisions >= 0.90)]\n",
        "threshold_90_precision = thresholds[np.argmax(precisions >= 0.90)]"
      ],
      "metadata": {
        "id": "eRk5e9japspg"
      },
      "execution_count": 43,
      "outputs": []
    },
    {
      "cell_type": "code",
      "source": [
        "plt.figure(figsize=(12,6))\n",
        "plot_precision_recall_vs_treshold(precisions, recalls, thresholds)\n",
        "plt.plot([threshold_90_precision, threshold_90_precision], [0., 0.9], 'r:')\n",
        "plt.plot([-50000, threshold_90_precision], [0.9, 0.9], 'r:')\n",
        "plt.plot([-50000, threshold_90_precision], [recall_90_precision, recall_90_precision], 'r:')\n",
        "plt.plot([threshold_90_precision], [0.9], 'ro')\n",
        "plt.plot([threshold_90_precision], [recall_90_precision], 'ro')\n",
        "plt.show()"
      ],
      "metadata": {
        "colab": {
          "base_uri": "https://localhost:8080/",
          "height": 401
        },
        "id": "RIAXc-7Ap-d3",
        "outputId": "3e5478bc-93ed-4582-8549-9bdccacf3930"
      },
      "execution_count": 44,
      "outputs": [
        {
          "output_type": "display_data",
          "data": {
            "image/png": "[encoded data removed]",
            "text/plain": [
              "<Figure size 864x432 with 1 Axes>"
            ]
          },
          "metadata": {
            "needs_background": "light"
          }
        }
      ]
    },
    {
      "cell_type": "markdown",
      "source": [
        "Another way to select good precision/recall trade-off is to plot precision directly against recall."
      ],
      "metadata": {
        "id": "-oEn0o93w9RM"
      }
    },
    {
      "cell_type": "code",
      "source": [
        "def plot_precision_vs_recall(precisions, recalls):\n",
        "  plt.plot(recalls, precisions, 'b--', linewidth=2)\n",
        "  plt.xlabel('Recall', fontsize=16)\n",
        "  plt.ylabel('Precision', fontsize=16)\n",
        "  plt.axis([0,1,0,1])\n",
        "  plt.grid(True)"
      ],
      "metadata": {
        "id": "ApaNcKrjxEMZ"
      },
      "execution_count": 45,
      "outputs": []
    },
    {
      "cell_type": "code",
      "source": [
        "plt.figure(figsize=(12,8))\n",
        "plot_precision_vs_recall(precisions, recalls)\n",
        "plt.plot([recall_90_precision, recall_90_precision], [0., 0.9], 'r:')\n",
        "plt.plot([0.0, recall_90_precision], [0.9, 0.9], 'r:')\n",
        "plt.plot([recall_90_precision], [0.9], 'ro')\n",
        "plt.show()"
      ],
      "metadata": {
        "colab": {
          "base_uri": "https://localhost:8080/",
          "height": 510
        },
        "id": "xI4971YLxa0q",
        "outputId": "13baabb0-98d7-459f-aa0b-4189b0f59f6c"
      },
      "execution_count": 46,
      "outputs": [
        {
          "output_type": "display_data",
          "data": {
            "image/png": "[encoded data removed]",
            "text/plain": [
              "<Figure size 864x576 with 1 Axes>"
            ]
          },
          "metadata": {
            "needs_background": "light"
          }
        }
      ]
    },
    {
      "cell_type": "code",
      "source": [
        "threshold_90_precision = thresholds[np.argmax(precisions >= 0.90)]\n",
        "threshold_90_precision"
      ],
      "metadata": {
        "colab": {
          "base_uri": "https://localhost:8080/"
        },
        "id": "aCxfxQ3B5IVh",
        "outputId": "63ae1d49-c3a9-434f-ddb9-44949fdf650a"
      },
      "execution_count": 48,
      "outputs": [
        {
          "output_type": "execute_result",
          "data": {
            "text/plain": [
              "3370.0194991439557"
            ]
          },
          "metadata": {},
          "execution_count": 48
        }
      ]
    },
    {
      "cell_type": "code",
      "source": [
        "y_train_pred_90 = (y_scores >= threshold_90_precision)"
      ],
      "metadata": {
        "id": "0TFFI-0Q5YJp"
      },
      "execution_count": 51,
      "outputs": []
    },
    {
      "cell_type": "code",
      "source": [
        "precision_score(y_train_5, y_train_pred_90)"
      ],
      "metadata": {
        "colab": {
          "base_uri": "https://localhost:8080/"
        },
        "id": "w-9L_DOX5gMA",
        "outputId": "6fab13c7-656f-4008-fc67-e7b4426be52b"
      },
      "execution_count": 53,
      "outputs": [
        {
          "output_type": "execute_result",
          "data": {
            "text/plain": [
              "0.9000345901072293"
            ]
          },
          "metadata": {},
          "execution_count": 53
        }
      ]
    },
    {
      "cell_type": "code",
      "source": [
        "recall_score(y_train_5, y_train_pred_90)"
      ],
      "metadata": {
        "colab": {
          "base_uri": "https://localhost:8080/"
        },
        "id": "NRGGaZDE503A",
        "outputId": "d1f09a17-e99f-4e93-fa14-42cfbfc246bd"
      },
      "execution_count": 54,
      "outputs": [
        {
          "output_type": "execute_result",
          "data": {
            "text/plain": [
              "0.4799852425751706"
            ]
          },
          "metadata": {},
          "execution_count": 54
        }
      ]
    },
    {
      "cell_type": "markdown",
      "source": [
        "###ROC Curve\n",
        "\n",
        "- plots true positive rate, against false positive rate\n",
        "\n",
        "\n",
        "####How to plot ROC curve?\n",
        "\n",
        "First use roc_curve() from sklearn to compute TPR  and FPR for various treshold values"
      ],
      "metadata": {
        "id": "DxTs8ol_6HCg"
      }
    },
    {
      "cell_type": "code",
      "source": [
        "from sklearn.metrics import roc_curve"
      ],
      "metadata": {
        "id": "gpAbZ-8d7_kx"
      },
      "execution_count": 55,
      "outputs": []
    },
    {
      "cell_type": "code",
      "source": [
        "fpr, tpr, tresholds = roc_curve(y_train_5, y_scores)"
      ],
      "metadata": {
        "id": "TpGoFU298EP_"
      },
      "execution_count": 56,
      "outputs": []
    },
    {
      "cell_type": "code",
      "source": [
        "def plot_roc_curve(fpr, tpr, label=None):\n",
        "  plt.plot(fpr, tpr, linewidth=2, label=label)\n",
        "  plt.plot([0,1], [0,1], 'k--') #Dashed diagonal\n",
        "  plt.axis([0,1,0,1])\n",
        "  plt.xlabel('False Positive Rate (Fall_Out)', fontsize=16)\n",
        "  plt.ylabel('True Positive Rate (Recall', fontsize=16)\n",
        "  plt.grid(True)"
      ],
      "metadata": {
        "id": "3dTDwWBu8NEz"
      },
      "execution_count": 59,
      "outputs": []
    },
    {
      "cell_type": "code",
      "source": [
        "plt.figure(figsize=(12,10))\n",
        "plot_roc_curve(fpr, tpr)\n",
        "fpr_90 = fpr[np.argmax(tpr >= recall_90_precision)]\n",
        "plt.plot([fpr_90, fpr_90], [0., recall_90_precision], 'r:')\n",
        "plt.plot([0.0, fpr_90], [recall_90_precision, recall_90_precision], 'r:')\n",
        "plt.plot([fpr_90], [recall_90_precision], 'ro')\n",
        "plt.show()"
      ],
      "metadata": {
        "colab": {
          "base_uri": "https://localhost:8080/",
          "height": 620
        },
        "id": "OmWXx1Pg8xid",
        "outputId": "5b4582f0-1950-4223-ab63-a2cbf3bbc01d"
      },
      "execution_count": 62,
      "outputs": [
        {
          "output_type": "display_data",
          "data": {
            "image/png": "[encoded data removed]",
            "text/plain": [
              "<Figure size 864x720 with 1 Axes>"
            ]
          },
          "metadata": {
            "needs_background": "light"
          }
        }
      ]
    },
    {
      "cell_type": "markdown",
      "source": [
        "####AUC\n",
        "\n",
        "Perfect classifier will have ROC AUC equal to 1. Where a purely random classifier will have ROC AUC equal to 0.5. "
      ],
      "metadata": {
        "id": "WGZFdbFA-7u2"
      }
    },
    {
      "cell_type": "code",
      "source": [
        "from sklearn.metrics import roc_auc_score\n",
        "roc_auc_score(y_train_5, y_scores)"
      ],
      "metadata": {
        "colab": {
          "base_uri": "https://localhost:8080/"
        },
        "id": "v1a1RZ2y_cea",
        "outputId": "2fcafe2d-ad9f-4167-9ab7-c007405d23db"
      },
      "execution_count": 63,
      "outputs": [
        {
          "output_type": "execute_result",
          "data": {
            "text/plain": [
              "0.9604938554008616"
            ]
          },
          "metadata": {},
          "execution_count": 63
        }
      ]
    },
    {
      "cell_type": "markdown",
      "source": [
        "When to use P/R and when to use ROC AUC?\n",
        "\n",
        "* PR is a good measure when the positive class is rare or when we care more about the false positive than the false negative. \n",
        "\n",
        "In this example, we could think - by looking on AUC - that our model is really good. But by looking on Precision/Recall curve, we can cleraly see that the model has a lot room for improvement - the curve could be close to the top left corner. "
      ],
      "metadata": {
        "id": "KeqZ53cO_u9V"
      }
    },
    {
      "cell_type": "markdown",
      "source": [
        "##Training RandomForestClassifier and comparing results with ROC curve and scores to the SGDClassifier\n",
        "\n"
      ],
      "metadata": {
        "id": "VLUHG3vpAoZW"
      }
    },
    {
      "cell_type": "code",
      "source": [
        ""
      ],
      "metadata": {
        "id": "W2Td8YC0A1P2"
      },
      "execution_count": null,
      "outputs": []
    }
  ]
}