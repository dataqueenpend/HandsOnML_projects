{
  "nbformat": 4,
  "nbformat_minor": 0,
  "metadata": {
    "colab": {
      "name": "Hands on ML - Classification_MNIST.ipynb",
      "provenance": [],
      "collapsed_sections": [],
      "authorship_tag": "ABX9TyOv/1k+MKlE6dk94B0ymy5k",
      "include_colab_link": true
    },
    "kernelspec": {
      "name": "python3",
      "display_name": "Python 3"
    },
    "language_info": {
      "name": "python"
    }
  },
  "cells": [
    {
      "cell_type": "markdown",
      "metadata": {
        "id": "view-in-github",
        "colab_type": "text"
      },
      "source": [
        "<a href=\"https://colab.research.google.com/github/dataqueenpend/HandsOnML_projects/blob/main/Hands_on_ML_Classification_MNIST.ipynb\" target=\"_parent\"><img src=\"https://colab.research.google.com/assets/colab-badge.svg\" alt=\"Open In Colab\"/></a>"
      ]
    },
    {
      "cell_type": "markdown",
      "source": [
        "#SETUP\n",
        "\n",
        "!Disclaimer - below code (with some modifications) is an exercise from Hand-On-ML exercises. Original you can find under this [link](https://github.com/dataqueenpend/handson-ml2/blob/master/03_classification.ipynb)."
      ],
      "metadata": {
        "id": "xyz8U3rTXG9F"
      }
    },
    {
      "cell_type": "code",
      "source": [
        "import sklearn\n",
        "import numpy as np\n",
        "import os\n",
        "\n",
        "#For stable outputs across the notebook\n",
        "np.random.seed(42)\n",
        "\n",
        "#Pretty figures\n",
        "%matplotlib inline\n",
        "import matplotlib as mpl\n",
        "import matplotlib.pyplot as plt\n",
        "mpl.rc('axes', labelsize=14)\n",
        "mpl.rc('xtick', labelsize=12)\n",
        "mpl.rc('ytick', labelsize=12)\n",
        "\n",
        "#Ignore warnings\n",
        "import warnings\n",
        "warnings.filterwarnings('ignore')\n",
        "\n",
        "#Saving figures\n",
        "PROJECT_ROOT_DIR = '.'\n",
        "CHAPTER_ID = 'classification'\n",
        "IMAGES_PATH = os.path.join(PROJECT_ROOT_DIR, 'images', CHAPTER_ID)\n",
        "os.makedirs(IMAGES_PATH, exist_ok=True)\n",
        "\n",
        "def save_fig(fig_id, tigh_layout=True, fig_extension='png', resolution=300):\n",
        "  path = os.path.join(IMAGES_PATH, fig_id + '.' + fig_extension)\n",
        "  print('Saving figure', fig_id)\n",
        "  if tight_layout:\n",
        "    plt.tight_layout()\n",
        "  plt.save_fig(path, format=fig_extension, dpi=resolution)"
      ],
      "metadata": {
        "id": "g0tHRWftXMAy"
      },
      "execution_count": 1,
      "outputs": []
    },
    {
      "cell_type": "markdown",
      "source": [
        "#MNIST"
      ],
      "metadata": {
        "id": "dLUmfYI9ZS45"
      }
    },
    {
      "cell_type": "code",
      "execution_count": 2,
      "metadata": {
        "id": "_Ywr6ACaWnSG"
      },
      "outputs": [],
      "source": [
        "from sklearn.datasets import fetch_openml"
      ]
    },
    {
      "cell_type": "code",
      "source": [
        "mnist = fetch_openml('mnist_784', version=1, as_frame=False)"
      ],
      "metadata": {
        "id": "p1gpGpsoW6mX"
      },
      "execution_count": 3,
      "outputs": []
    },
    {
      "cell_type": "code",
      "source": [
        "mnist.keys()"
      ],
      "metadata": {
        "colab": {
          "base_uri": "https://localhost:8080/"
        },
        "id": "D5oLXBhUXBFL",
        "outputId": "28f93858-acd1-4d30-c60c-ee872b257b63"
      },
      "execution_count": 4,
      "outputs": [
        {
          "output_type": "execute_result",
          "data": {
            "text/plain": [
              "dict_keys(['data', 'target', 'frame', 'categories', 'feature_names', 'target_names', 'DESCR', 'details', 'url'])"
            ]
          },
          "metadata": {},
          "execution_count": 4
        }
      ]
    },
    {
      "cell_type": "code",
      "source": [
        "X, y = mnist['data'], mnist['target']"
      ],
      "metadata": {
        "id": "etmqNQBeanBZ"
      },
      "execution_count": 5,
      "outputs": []
    },
    {
      "cell_type": "code",
      "source": [
        "X.shape"
      ],
      "metadata": {
        "colab": {
          "base_uri": "https://localhost:8080/"
        },
        "id": "0lAWMLCGas-z",
        "outputId": "5584dfea-a08b-4999-e8ea-b979f6c556ac"
      },
      "execution_count": 6,
      "outputs": [
        {
          "output_type": "execute_result",
          "data": {
            "text/plain": [
              "(70000, 784)"
            ]
          },
          "metadata": {},
          "execution_count": 6
        }
      ]
    },
    {
      "cell_type": "code",
      "source": [
        "y.shape"
      ],
      "metadata": {
        "colab": {
          "base_uri": "https://localhost:8080/"
        },
        "id": "9tx0rA2cauy0",
        "outputId": "193f0d90-b4d6-47ba-e30c-85eb2b346be1"
      },
      "execution_count": 7,
      "outputs": [
        {
          "output_type": "execute_result",
          "data": {
            "text/plain": [
              "(70000,)"
            ]
          },
          "metadata": {},
          "execution_count": 7
        }
      ]
    },
    {
      "cell_type": "markdown",
      "source": [
        "Dataset has 70 000 images. Each image has 784 features. \n",
        "\n",
        "---\n",
        "Each image is 28 x 28 pixels, and each feature represents one pixel's intensity from 0 to 255. "
      ],
      "metadata": {
        "id": "rHLbT7AeayBC"
      }
    },
    {
      "cell_type": "code",
      "source": [
        "some_digit = X[0]\n",
        "some_digit_image = some_digit.reshape(28,28)"
      ],
      "metadata": {
        "id": "1ku7piB5bLJ0"
      },
      "execution_count": 8,
      "outputs": []
    },
    {
      "cell_type": "code",
      "source": [
        "plt.imshow(some_digit_image, cmap='binary')\n",
        "plt.axis('off')\n",
        "plt.show()"
      ],
      "metadata": {
        "colab": {
          "base_uri": "https://localhost:8080/",
          "height": 248
        },
        "id": "iTe-YuoobSYX",
        "outputId": "ddcbdd46-a9a4-4fc8-dcfd-56db8f4eb387"
      },
      "execution_count": 9,
      "outputs": [
        {
          "output_type": "display_data",
          "data": {
            "image/png": "[encoded data removed]",
            "text/plain": [
              "<Figure size 432x288 with 1 Axes>"
            ]
          },
          "metadata": {
            "needs_background": "light"
          }
        }
      ]
    },
    {
      "cell_type": "code",
      "source": [
        "y[0]"
      ],
      "metadata": {
        "colab": {
          "base_uri": "https://localhost:8080/",
          "height": 35
        },
        "id": "1qgCpzQZbeX7",
        "outputId": "cc5803fd-a0de-43de-df6c-35c2e92fbc44"
      },
      "execution_count": 10,
      "outputs": [
        {
          "output_type": "execute_result",
          "data": {
            "application/vnd.google.colaboratory.intrinsic+json": {
              "type": "string"
            },
            "text/plain": [
              "'5'"
            ]
          },
          "metadata": {},
          "execution_count": 10
        }
      ]
    },
    {
      "cell_type": "markdown",
      "source": [
        "Picture looks like 5. And label show it is 5. \n",
        "\n",
        "---\n",
        "\n",
        "y is a string, which will be tough for the ML to deal with. Let's imput it to the integer."
      ],
      "metadata": {
        "id": "0ywaC42Fbg9U"
      }
    },
    {
      "cell_type": "code",
      "source": [
        "y = y.astype(np.uint8)"
      ],
      "metadata": {
        "id": "WVh-creKbf22"
      },
      "execution_count": 11,
      "outputs": []
    },
    {
      "cell_type": "markdown",
      "source": [
        "##Train, test split"
      ],
      "metadata": {
        "id": "s0sjU9wHb8Zy"
      }
    },
    {
      "cell_type": "code",
      "source": [
        "X_train, X_test, y_train, y_test = X[:60000], X[60000:], y[:60000], y[60000:]"
      ],
      "metadata": {
        "id": "W2QYgLkqb_oR"
      },
      "execution_count": 17,
      "outputs": []
    },
    {
      "cell_type": "markdown",
      "source": [
        "Data is already shuffled, so we don't risk that some fold will be missing some digits. \n",
        "\n",
        "> Some ML can perform bad, if they get many similar instances in a row. But shuffling can be not such a good idea, when we're dealing with f.e. time-series data -> stock market prices, weatcher predictions etc. "
      ],
      "metadata": {
        "id": "hj0Fm7nFcVyY"
      }
    },
    {
      "cell_type": "markdown",
      "source": [
        "##Training Binary Classifier\n",
        "\n",
        "For simplification of a problem let's try to train the model for predicting either the number is 5 or not. "
      ],
      "metadata": {
        "id": "2XaHUu1lQR1n"
      }
    },
    {
      "cell_type": "code",
      "source": [
        "y_train_5 = (y_train == 5)\n",
        "y_test_5 = (y_test ==5)"
      ],
      "metadata": {
        "id": "_vYkkI84QaAj"
      },
      "execution_count": 18,
      "outputs": []
    },
    {
      "cell_type": "markdown",
      "source": [
        "###Stochastic Gradient Descent\n",
        "\n",
        "+ capable of handling very large datasets efficieny\n",
        "  > this is because SGD handles training instances indepedently - one at a time - which make it good for online learning as well"
      ],
      "metadata": {
        "id": "eXx1bQa4Q0GX"
      }
    },
    {
      "cell_type": "code",
      "source": [
        "#Creating SGD object and training on the whole train set\n",
        "\n",
        "from sklearn.linear_model import SGDClassifier"
      ],
      "metadata": {
        "id": "QlXg_c48Qw64"
      },
      "execution_count": 14,
      "outputs": []
    },
    {
      "cell_type": "code",
      "source": [
        "sgd_clf = SGDClassifier(random_state=42)"
      ],
      "metadata": {
        "id": "Z2Esv7hmRdPk"
      },
      "execution_count": 15,
      "outputs": []
    },
    {
      "cell_type": "code",
      "source": [
        "sgd_clf.fit(X_train, y_train_5)"
      ],
      "metadata": {
        "colab": {
          "base_uri": "https://localhost:8080/"
        },
        "id": "O6v4PtYYRhOd",
        "outputId": "75da7a6e-774f-4b42-9e69-339549f7b5fa"
      },
      "execution_count": 19,
      "outputs": [
        {
          "output_type": "execute_result",
          "data": {
            "text/plain": [
              "SGDClassifier(random_state=42)"
            ]
          },
          "metadata": {},
          "execution_count": 19
        }
      ]
    },
    {
      "cell_type": "code",
      "source": [
        "sgd_clf.predict([some_digit])"
      ],
      "metadata": {
        "colab": {
          "base_uri": "https://localhost:8080/"
        },
        "id": "xkokYsrlSC9m",
        "outputId": "4a870708-18c8-4cfd-d625-13925e723270"
      },
      "execution_count": 20,
      "outputs": [
        {
          "output_type": "execute_result",
          "data": {
            "text/plain": [
              "array([ True])"
            ]
          },
          "metadata": {},
          "execution_count": 20
        }
      ]
    },
    {
      "cell_type": "code",
      "source": [
        "#Checking cross-val-score\n",
        "from sklearn.model_selection import cross_val_score\n",
        "cross_val_score(sgd_clf, X_train, y_train, cv=3, scoring='accuracy')"
      ],
      "metadata": {
        "colab": {
          "base_uri": "https://localhost:8080/"
        },
        "id": "gCemFSR5Z0NG",
        "outputId": "72a1ba6b-7b19-4d3a-9505-a375a91a0845"
      },
      "execution_count": 22,
      "outputs": [
        {
          "output_type": "execute_result",
          "data": {
            "text/plain": [
              "array([0.87365, 0.85835, 0.8689 ])"
            ]
          },
          "metadata": {},
          "execution_count": 22
        }
      ]
    },
    {
      "cell_type": "markdown",
      "source": [
        "Classifier guessed right. \n",
        "\n",
        "Let's try evalute the model performance. "
      ],
      "metadata": {
        "id": "AgUlCOZKSInm"
      }
    },
    {
      "cell_type": "markdown",
      "source": [
        "##Performance Measures\n",
        "\n",
        "**Evaluation of the Classifier is trickier than evaluating regressor.**"
      ],
      "metadata": {
        "id": "RHd2AmmvSRMu"
      }
    },
    {
      "cell_type": "markdown",
      "source": [
        "###Cross Validation\n",
        "\n",
        "There is part of interesting code for cross validation from handson-ml2 "
      ],
      "metadata": {
        "id": "lnvxJNR9S-QF"
      }
    },
    {
      "cell_type": "code",
      "source": [
        "from sklearn.model_selection import StratifiedKFold\n",
        "from sklearn.base import clone\n",
        "\n",
        "skfolds = StratifiedKFold(n_splits=3, shuffle=True, random_state=42)\n",
        "\n",
        "for train_index, test_index in skfolds.split(X_train, y_train_5):\n",
        "    clone_clf = clone(sgd_clf)\n",
        "    X_train_folds = X_train[train_index]\n",
        "    y_train_folds = y_train_5[train_index]\n",
        "    X_test_fold = X_train[test_index]\n",
        "    y_test_fold = y_train_5[test_index]\n",
        "\n",
        "    clone_clf.fit(X_train_folds, y_train_folds)\n",
        "    y_pred = clone_clf.predict(X_test_fold)\n",
        "    n_correct = sum(y_pred == y_test_fold)\n",
        "    print(n_correct / len(y_pred))"
      ],
      "metadata": {
        "colab": {
          "base_uri": "https://localhost:8080/"
        },
        "id": "j9G6g6CYWxit",
        "outputId": "c175471d-ee23-49a4-85c4-997641d21e66"
      },
      "execution_count": 27,
      "outputs": [
        {
          "output_type": "stream",
          "name": "stdout",
          "text": [
            "0.9669\n",
            "0.91625\n",
            "0.96785\n"
          ]
        }
      ]
    },
    {
      "cell_type": "markdown",
      "source": [
        "####Cross validation with cross_val_score sklearn"
      ],
      "metadata": {
        "id": "eTZEnXTPcMG_"
      }
    },
    {
      "cell_type": "code",
      "source": [
        "from sklearn.model_selection import cross_val_score"
      ],
      "metadata": {
        "id": "5XClOQ65cQoz"
      },
      "execution_count": 28,
      "outputs": []
    },
    {
      "cell_type": "code",
      "source": [
        "cross_val_score(sgd_clf, X_train, y_train_5, cv=3, scoring='accuracy')"
      ],
      "metadata": {
        "colab": {
          "base_uri": "https://localhost:8080/"
        },
        "id": "gW2qYHTlcUeA",
        "outputId": "3df312e8-e800-45d4-87b3-615db8ef425c"
      },
      "execution_count": 29,
      "outputs": [
        {
          "output_type": "execute_result",
          "data": {
            "text/plain": [
              "array([0.95035, 0.96035, 0.9604 ])"
            ]
          },
          "metadata": {},
          "execution_count": 29
        }
      ]
    },
    {
      "cell_type": "markdown",
      "source": [
        "Taking aa look at some classifier that classifies every image as not-5"
      ],
      "metadata": {
        "id": "HPnQc-O_csHd"
      }
    },
    {
      "cell_type": "code",
      "source": [
        "from sklearn.base import BaseEstimator"
      ],
      "metadata": {
        "id": "2hWka7Y7c4Ui"
      },
      "execution_count": 30,
      "outputs": []
    },
    {
      "cell_type": "code",
      "source": [
        "class Never5Classifier(BaseEstimator):\n",
        "  def fit(self, X, y=None):\n",
        "    return self\n",
        "  def predict(self, X):\n",
        "    return np.zeros((len(X), 1), dtype=bool)"
      ],
      "metadata": {
        "id": "HLMHgE0iehIe"
      },
      "execution_count": 31,
      "outputs": []
    },
    {
      "cell_type": "code",
      "source": [
        "never_5_clf = Never5Classifier()"
      ],
      "metadata": {
        "id": "p9IBia5he4RJ"
      },
      "execution_count": 32,
      "outputs": []
    },
    {
      "cell_type": "code",
      "source": [
        "cross_val_score(never_5_clf, X_train, y_train_5, cv=3, scoring='accuracy')"
      ],
      "metadata": {
        "colab": {
          "base_uri": "https://localhost:8080/"
        },
        "id": "_SgmRhq5e8p2",
        "outputId": "1ea261b5-5886-40b8-d95d-7eabb6e516ed"
      },
      "execution_count": 33,
      "outputs": [
        {
          "output_type": "execute_result",
          "data": {
            "text/plain": [
              "array([0.91125, 0.90855, 0.90915])"
            ]
          },
          "metadata": {},
          "execution_count": 33
        }
      ]
    },
    {
      "cell_type": "markdown",
      "source": [
        "This classifier gueeses 100% 5. But if only 10% of the images are not 5, than the classifier is right in the 90%. \n",
        "\n",
        "> That's why accuracy is not the best way to evaluate performance of the classifiers. **Especially with skewed datasets**. "
      ],
      "metadata": {
        "id": "oXoMxN46fILj"
      }
    },
    {
      "cell_type": "markdown",
      "source": [
        "###Confusion Matrix\n",
        "\n",
        "> Evaluation by counting the number of times instances of clas A are classified as class B\n",
        "\n",
        "  * if we know that classifier confused images of 5s with 3s, we go to the 5th row and 3rd column of the confusion matrix\n",
        "\n"
      ],
      "metadata": {
        "id": "pwD942D4hKf6"
      }
    }
  ]
}