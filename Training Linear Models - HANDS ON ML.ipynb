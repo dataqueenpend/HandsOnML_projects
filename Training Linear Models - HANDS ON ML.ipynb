{
 "cells": [
  {
   "cell_type": "markdown",
   "id": "2ef6a2e9",
   "metadata": {},
   "source": [
    "! Disclaimer. This code is part of chapter and exercises from the Hands On ML book. Code doesn't belong to me. \n",
    "Original notebook you can find [here](https://github.com/ageron/handson-ml/blob/master/04_training_linear_models.ipynb)"
   ]
  },
  {
   "cell_type": "markdown",
   "id": "b5f554c4",
   "metadata": {},
   "source": [
    "## Setup"
   ]
  },
  {
   "cell_type": "code",
   "execution_count": 4,
   "id": "590a0197",
   "metadata": {},
   "outputs": [],
   "source": [
    "import sklearn\n",
    "import numpy as np\n",
    "import pandas as pd\n",
    "import os\n",
    "import warnings\n",
    "\n",
    "np.random.seed(42) #making sure the nb will output stable across runs\n",
    "\n",
    "import matplotlib.pyplot as plt\n",
    "%matplotlib inline\n",
    "warnings.filterwarnings('ignore')"
   ]
  },
  {
   "cell_type": "markdown",
   "id": "c483e4af",
   "metadata": {},
   "source": [
    "## Linear Regression"
   ]
  },
  {
   "cell_type": "markdown",
   "id": "bde79d0b",
   "metadata": {},
   "source": [
    "### The Normal Equation\n",
    "\n",
    "One of the common metrics of evaluation of Linear Regression is Root Mean Square Error. In order to use RMSE we need to find the value of teta, which is a part of the equation - minimizes the cost function.\n",
    "\n",
    "To test the equation we'll generate linear-looking data by using numpy. "
   ]
  },
  {
   "cell_type": "code",
   "execution_count": 2,
   "id": "60af1a55",
   "metadata": {},
   "outputs": [],
   "source": [
    "X = 2 * np.random.rand(100,1)\n",
    "y = 4 + 3 * X + np.random.rand(100,1)"
   ]
  },
  {
   "cell_type": "markdown",
   "id": "556691e5",
   "metadata": {},
   "source": [
    "And that's how our randomly generated data looks like. "
   ]
  },
  {
   "cell_type": "code",
   "execution_count": 5,
   "id": "2cb03ea0",
   "metadata": {},
   "outputs": [
    {
     "data": {
      "image/png": "[encoded data removed]",
      "text/plain": [
       "<Figure size 432x288 with 1 Axes>"
      ]
     },
     "metadata": {
      "needs_background": "light"
     },
     "output_type": "display_data"
    }
   ],
   "source": [
    "plt.plot(X,y, 'b.')\n",
    "plt.xlabel('$x_1$', fontsize=18)\n",
    "plt.ylabel('$y$', rotation=0, fontsize=18)\n",
    "plt.axis([0,2,0,15])\n",
    "plt.show()"
   ]
  },
  {
   "cell_type": "markdown",
   "id": "8dc65692",
   "metadata": {},
   "source": [
    "We'll compute the teta using Normal Equation. In order to do it we will use NumPy's linear algebra module and the function inv() - it will compute the inverse of a matrix - and the dot() method - for matrix multiplication."
   ]
  },
  {
   "cell_type": "code",
   "execution_count": 7,
   "id": "2ccf45fd",
   "metadata": {},
   "outputs": [],
   "source": [
    "X_b = np.c_[np.ones((100,1)), X] # adds x) = 1 to each instance\n",
    "theta_best = np.linalg.inv(X_b.T.dot(X_b)).dot(X_b.T).dot(y)"
   ]
  },
  {
   "cell_type": "markdown",
   "id": "a4a1d658",
   "metadata": {},
   "source": [
    "To generate the data we used function y=4+3x, + Gaussian noise (, is used as substitue of 1 in lower index here)"
   ]
  },
  {
   "cell_type": "code",
   "execution_count": 8,
   "id": "aba7216b",
   "metadata": {},
   "outputs": [
    {
     "data": {
      "text/plain": [
       "array([[4.51359766],\n",
       "       [2.98323418]])"
      ]
     },
     "execution_count": 8,
     "metadata": {},
     "output_type": "execute_result"
    }
   ],
   "source": [
    "theta_best"
   ]
  },
  {
   "cell_type": "markdown",
   "id": "797a69a4",
   "metadata": {},
   "source": [
    "As we noise made it impossible to recover exact parameters of the original function. \n",
    "\n",
    "Let's make predictions using teta."
   ]
  },
  {
   "cell_type": "code",
   "execution_count": 9,
   "id": "4706c14a",
   "metadata": {},
   "outputs": [
    {
     "data": {
      "text/plain": [
       "array([[ 4.51359766],\n",
       "       [10.48006601]])"
      ]
     },
     "execution_count": 9,
     "metadata": {},
     "output_type": "execute_result"
    }
   ],
   "source": [
    "X_new = np.array([[0], [2]])\n",
    "X_new_b = np.c_[np.ones((2,1)), X_new] #adding x0 =1 to each instance\n",
    "y_predict = X_new_b.dot(theta_best)\n",
    "y_predict"
   ]
  },
  {
   "cell_type": "markdown",
   "id": "d7a12be5",
   "metadata": {},
   "source": [
    "And let's plot the predictions. "
   ]
  },
  {
   "cell_type": "code",
   "execution_count": 10,
   "id": "628b3c40",
   "metadata": {},
   "outputs": [
    {
     "data": {
      "image/png": "[encoded data removed]",
      "text/plain": [
       "<Figure size 432x288 with 1 Axes>"
      ]
     },
     "metadata": {
      "needs_background": "light"
     },
     "output_type": "display_data"
    }
   ],
   "source": [
    "plt.plot(X_new, y_predict, 'r-')\n",
    "plt.plot(X,y, 'b.')\n",
    "plt.axis([0,2,0,15])\n",
    "plt.show()"
   ]
  },
  {
   "cell_type": "markdown",
   "id": "5ede8fac",
   "metadata": {},
   "source": [
    "Linear Regression with scikit learn is much more straightforward..."
   ]
  },
  {
   "cell_type": "code",
   "execution_count": 11,
   "id": "45dc2765",
   "metadata": {},
   "outputs": [],
   "source": [
    "from sklearn.linear_model import LinearRegression"
   ]
  },
  {
   "cell_type": "code",
   "execution_count": 12,
   "id": "bc0568b6",
   "metadata": {},
   "outputs": [
    {
     "data": {
      "text/plain": [
       "(array([4.51359766]), array([[2.98323418]]))"
      ]
     },
     "execution_count": 12,
     "metadata": {},
     "output_type": "execute_result"
    }
   ],
   "source": [
    "lin_reg = LinearRegression()\n",
    "lin_reg.fit(X,y)\n",
    "lin_reg.intercept_, lin_reg.coef_"
   ]
  },
  {
   "cell_type": "code",
   "execution_count": 13,
   "id": "8f04ac6b",
   "metadata": {},
   "outputs": [
    {
     "data": {
      "text/plain": [
       "array([[ 4.51359766],\n",
       "       [10.48006601]])"
      ]
     },
     "execution_count": 13,
     "metadata": {},
     "output_type": "execute_result"
    }
   ],
   "source": [
    "lin_reg.predict(X_new)"
   ]
  },
  {
   "cell_type": "markdown",
   "id": "36b70e5f",
   "metadata": {},
   "source": [
    "Linear Regression is basec on scipy.linalg.lstq() function (least square). And we can call it directly with"
   ]
  },
  {
   "cell_type": "code",
   "execution_count": 15,
   "id": "9def485a",
   "metadata": {},
   "outputs": [
    {
     "data": {
      "text/plain": [
       "array([[4.51359766],\n",
       "       [2.98323418]])"
      ]
     },
     "execution_count": 15,
     "metadata": {},
     "output_type": "execute_result"
    }
   ],
   "source": [
    "theta_best_svd, residuals, rank, s = np.linalg.lstsq(X_b, y, rcond=1e-6)\n",
    "theta_best_svd"
   ]
  },
  {
   "cell_type": "markdown",
   "id": "346f9ea2",
   "metadata": {},
   "source": [
    "Above function is computing theta = X^+y, where X^+ is the psuedoinverse of X. We can compute the pseudoinverse like this:"
   ]
  },
  {
   "cell_type": "code",
   "execution_count": 16,
   "id": "6302d44a",
   "metadata": {},
   "outputs": [
    {
     "data": {
      "text/plain": [
       "array([[4.51359766],\n",
       "       [2.98323418]])"
      ]
     },
     "execution_count": 16,
     "metadata": {},
     "output_type": "execute_result"
    }
   ],
   "source": [
    "np.linalg.pinv(X_b).dot(y)"
   ]
  },
  {
   "cell_type": "markdown",
   "id": "ff60c3b5",
   "metadata": {},
   "source": [
    "Method of performing Linear Regression is important from the time and computational costs perspective. It can be especially a thing to take into consideration win datasets with a lot features. Both SVD and Normal Equation can be very slow then. On the other hand, they will handle training sets efficiently, if they can fit in memory.\n",
    "\n",
    "\n",
    "---\n",
    "\n",
    "While the Linear Regression model is trained, predictions are very fast.\n",
    "\n",
    "---\n",
    "\n",
    "Next on our list of Linear Models is Gradient descent, which will be better for cases when there are large number of features or too many inatnces to fit in memory."
   ]
  },
  {
   "cell_type": "code",
   "execution_count": null,
   "id": "e66fd195",
   "metadata": {},
   "outputs": [],
   "source": []
  }
 ],
 "metadata": {
  "kernelspec": {
   "display_name": "Python 3 (ipykernel)",
   "language": "python",
   "name": "python3"
  },
  "language_info": {
   "codemirror_mode": {
    "name": "ipython",
    "version": 3
   },
   "file_extension": ".py",
   "mimetype": "text/x-python",
   "name": "python",
   "nbconvert_exporter": "python",
   "pygments_lexer": "ipython3",
   "version": "3.9.7"
  }
 },
 "nbformat": 4,
 "nbformat_minor": 5
}
